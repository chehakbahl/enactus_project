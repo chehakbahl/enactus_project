{
 "cells": [
  {
   "cell_type": "code",
   "execution_count": 7,
   "metadata": {},
   "outputs": [
    {
     "name": "stdout",
     "output_type": "stream",
     "text": [
      "My name is chehek\n",
      "       CRIM  ZN  INDUS  CHAS    NOX     RM   AGE     DIS  RAD  TAX  PTRATIO  \\\n",
      "0   0.17331   0   9.69     0  0.585  5.707  54.0  2.3817    6  391     19.2   \n",
      "1   0.27957   0   9.69     0  0.585  5.926  42.6  2.3817    6  391     19.2   \n",
      "2   0.17899   0   9.69     0  0.585  5.670  28.8  2.7986    6  391     19.2   \n",
      "3   0.28960   0   9.69     0  0.585  5.390  72.9  2.7986    6  391     19.2   \n",
      "4   0.26838   0   9.69     0  0.585  5.794  70.6  2.8927    6  391     19.2   \n",
      "5   0.23912   0   9.69     0  0.585  6.019  65.3  2.4091    6  391     19.2   \n",
      "6   0.17783   0   9.69     0  0.585  5.569  73.5  2.3999    6  391     19.2   \n",
      "7   0.22438   0   9.69     0  0.585  6.027  79.7  2.4982    6  391     19.2   \n",
      "8   0.06263   0  11.93     0  0.573  6.593  69.1  2.4786    1  273     21.0   \n",
      "9   0.04527   0  11.93     0  0.573  6.120  76.7  2.2875    1  273     21.0   \n",
      "10  0.06076   0  11.93     0  0.573  6.976  91.0  2.1675    1  273     21.0   \n",
      "11  0.10959   0  11.93     0  0.573  6.794  89.3  2.3889    1  273     21.0   \n",
      "12  0.04741   0  11.93     0  0.573  6.030  80.8  2.5050    1  273     21.0   \n",
      "\n",
      "         B  LSTAT  MEDV  \n",
      "0   396.90  12.01  21.8  \n",
      "1   396.90  13.59  24.5  \n",
      "2   393.29  17.60  23.1  \n",
      "3   396.90  21.14  19.7  \n",
      "4   396.90  14.10  18.3  \n",
      "5   396.90  12.92  21.2  \n",
      "6   395.77  15.10  17.5  \n",
      "7   396.90  14.33  16.8  \n",
      "8   391.99   9.67  22.4  \n",
      "9   396.90   9.08  20.6  \n",
      "10  396.90   5.64  23.9  \n",
      "11  393.45   6.48  22.0  \n",
      "12  396.90   7.88  11.9  \n"
     ]
    }
   ],
   "source": [
    "print(\"My name is chehek\")\n",
    "\n",
    "import pandas as pd\n",
    "import csv\n",
    "\n",
    "# read by default 1st sheet of an excel file\n",
    "dataframe1 = pd.read_csv(\"C:\\\\chehak_data\\\\house_picing2.txt\")\n",
    "\n",
    "\n",
    "print(dataframe1)\n",
    "\n",
    "dataframe1.to_csv('C:\\\\chehak_data\\\\university_records.csv',encoding='utf-8', index=False)\n"
   ]
  }
 ],
 "metadata": {
  "kernelspec": {
   "display_name": "Python 3",
   "language": "python",
   "name": "python3"
  },
  "language_info": {
   "codemirror_mode": {
    "name": "ipython",
    "version": 3
   },
   "file_extension": ".py",
   "mimetype": "text/x-python",
   "name": "python",
   "nbconvert_exporter": "python",
   "pygments_lexer": "ipython3",
   "version": "3.12.6"
  }
 },
 "nbformat": 4,
 "nbformat_minor": 2
}
